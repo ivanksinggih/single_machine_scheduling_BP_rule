{
  "nbformat": 4,
  "nbformat_minor": 0,
  "metadata": {
    "colab": {
      "provenance": []
    },
    "kernelspec": {
      "name": "python3",
      "display_name": "Python 3"
    }
  },
  "cells": [
    {
      "cell_type": "markdown",
      "metadata": {
        "id": "zyylgxPB4MIZ"
      },
      "source": [
        "<a href=\"https://colab.research.google.com/github/ivanksinggih/single_machine_scheduling_BP_rule_2Opt/blob/main/code_BP_rule_2Opt.ipynb\" target=\"_parent\"><img src=\"https://colab.research.google.com/assets/colab-badge.svg\" alt=\"Open In Colab\"/></a>"
      ]
    },
    {
      "cell_type": "code",
      "source": [
        "# A. Library import\n",
        "\n",
        "import time\n",
        "\n",
        "details_debug = False"
      ],
      "metadata": {
        "id": "uis48x7ys_tY"
      },
      "execution_count": 1,
      "outputs": []
    },
    {
      "cell_type": "markdown",
      "source": [
        "A function to calculate the total completion times based on a job sequence."
      ],
      "metadata": {
        "id": "Eussc3mirsj_"
      }
    },
    {
      "cell_type": "code",
      "metadata": {
        "id": "n2ETutVaJBqH"
      },
      "source": [
        "# B. Objective function definition\n",
        "\n",
        "def objective_value_calculation(sequence):\n",
        "\n",
        "  printed_sequence = [x+1 for x in sequence]  # In the computation, indices start from 0, but because the actual job indices start from 1, we increase all values in the list with 1\n",
        "\n",
        "  if details_debug == True:\n",
        "    print(\"-----------------------------------------------------\")\n",
        "    print(\"[Objective value calculation function]\")\n",
        "    print(\"sequence: \", printed_sequence)\n",
        "\n",
        "  completion_time_per_sequence_index = []\n",
        "  total_completion_times = 0\n",
        "\n",
        "  # Add the distance between customers (in route) into the objective_value\n",
        "  for i in range(len(sequence)):\n",
        "    if i==0:\n",
        "      completion_time_per_sequence_index += [processing_time[sequence[i]]]\n",
        "    else:\n",
        "      completion_time_per_sequence_index += [completion_time_per_sequence_index[i-1] + processing_time[sequence[i]]]\n",
        "    total_completion_times += completion_time_per_sequence_index[i]\n",
        "\n",
        "  if details_debug == True:\n",
        "    print(\"completion_time_per_sequence_index: \", completion_time_per_sequence_index)\n",
        "    print(\"total_completion_times: \", total_completion_times)\n",
        "    print(\"-----------------------------------------------------\")\n",
        "    print()\n",
        "\n",
        "  return total_completion_times"
      ],
      "execution_count": 2,
      "outputs": []
    },
    {
      "cell_type": "markdown",
      "metadata": {
        "id": "GBXjd9SEgByr"
      },
      "source": [
        "Program initialization:"
      ]
    },
    {
      "cell_type": "code",
      "metadata": {
        "id": "uqkQCF9If_mP"
      },
      "source": [
        "# C. Program initialization\n",
        "\n",
        "# Input data\n",
        "\n",
        "# Job               1,  2,  3,  4\n",
        "processing_time = [ 7,  4,  3, 10]\n",
        "\n",
        "# Select one set of method(s) (select only one set, and place a # sign in front of not selected methods to deactivate them)\n",
        "selected_methods = [\"binary\", \"SPT\", \"2Opt\"]\n",
        "# selected_methods = [\"binary\", \"SPT\"]\n",
        "# selected_methods = [\"binary\", \"2Opt\"]\n",
        "# selected_methods = [\"SPT\", \"2Opt\"]\n",
        "# selected_methods = [\"binary\"]\n",
        "# selected_methods = [\"SPT\"]\n",
        "# selected_methods = [\"2Opt\"]"
      ],
      "execution_count": 3,
      "outputs": []
    },
    {
      "cell_type": "markdown",
      "metadata": {
        "id": "uhWmBDA8fZ44"
      },
      "source": [
        "Method 1: Binary Programming"
      ]
    },
    {
      "cell_type": "code",
      "metadata": {
        "id": "Do4BWu2UcD5z",
        "colab": {
          "base_uri": "https://localhost:8080/"
        },
        "outputId": "1d05bf4b-fc88-405f-ecde-4806f371b0b6"
      },
      "source": [
        "# D. Binary Programming solving using GUROBI\n",
        "\n",
        "if \"binary\" in selected_methods:\n",
        "\n",
        "  !pip install gurobipy\n",
        "  import gurobipy as gp\n",
        "  from gurobipy import GRB\n",
        "  GUROBI_timelimit = 15*60  # in seconds\n",
        "  GUROBI_presolve = 2  # 0 = Deactivated, 1 = Activated, 2 = Both\n",
        "\n",
        "  print()\n",
        "  print(\"-----------------------------------------------------\")\n",
        "  print(\"Method 1: Binary Programming\")\n",
        "  print()\n",
        "\n",
        "  # Code template taken from https://github.com/Gurobi/modeling-examples/blob/master/milk_collection/milk_collection.ipynb\n",
        "\n",
        "  # Generate model\n",
        "  model = gp.Model('single_machine_scheduling.lp')\n",
        "\n",
        "  # Variable definition\n",
        "  variable_indices_sequence_index = [*range(1,len(processing_time)+1)]\n",
        "  variable_indices_jobs = [*range(1,len(processing_time)+1)]\n",
        "\n",
        "  x_var = model.addVars(variable_indices_sequence_index, variable_indices_jobs, vtype=GRB.BINARY, name='x')\n",
        "\n",
        "  print(\"x_var: \", x_var)\n",
        "\n",
        "  # Set objective function\n",
        "  model.setObjective(gp.quicksum(processing_time[j-1] * (len(processing_time) + 1 - i) * x_var[i,j] for i in variable_indices_sequence_index for j in variable_indices_jobs), GRB.MINIMIZE)\n",
        "\n",
        "  # Set constraint 2\n",
        "  model.addConstrs((gp.quicksum(x_var[i,j] for i in variable_indices_sequence_index) == 1 for j in variable_indices_jobs),\n",
        "                  name='constraint_2')\n",
        "\n",
        "  # Set constraint 3\n",
        "  model.addConstrs((gp.quicksum(x_var[i,j] for j in variable_indices_jobs) == 1 for i in variable_indices_sequence_index),\n",
        "                  name='constraint_3')\n",
        "\n",
        "  # Solve model\n",
        "  presolve_list = list()\n",
        "  if GUROBI_presolve == 2:\n",
        "      presolve_list.append(0)\n",
        "      presolve_list.append(1)\n",
        "  else:\n",
        "      presolve_list.append(GUROBI_presolve)\n",
        "  for presolve_setting in presolve_list:\n",
        "              \n",
        "      if presolve_setting == 0:\n",
        "          print(\"Run GUROBI without presolving process\")\n",
        "      else:\n",
        "          print(\"Run GUROBI with presolving process\")\n",
        "      print()\n",
        "\n",
        "      start_time = time.time()\n",
        "      model.reset(0)  # Reset model: remove any solutions from previous runs\n",
        "      model.setParam(GRB.Param.TimeLimit, GUROBI_timelimit)\n",
        "      model.setParam(GRB.Param.Presolve, presolve_setting)\n",
        "      model.optimize()\n",
        "      end_time = time.time()\n",
        "\n",
        "      # Print results\n",
        "      print(\"Objective value = \", model.ObjVal)\n",
        "\n",
        "      for v in model.getVars():\n",
        "          if v.x > 0:  # Print values that are larger than 0\n",
        "              print('%s: %g' % (v.varName, v.x))\n",
        "\n",
        "      print(\"Computational time (CPU time) = \", end_time - start_time, \"seconds\")\n",
        "  print(\"-----------------------------------------------------\")\n"
      ],
      "execution_count": 4,
      "outputs": [
        {
          "output_type": "stream",
          "name": "stdout",
          "text": [
            "Looking in indexes: https://pypi.org/simple, https://us-python.pkg.dev/colab-wheels/public/simple/\n",
            "Collecting gurobipy\n",
            "  Downloading gurobipy-10.0.0-cp38-cp38-manylinux2014_x86_64.whl (12.8 MB)\n",
            "\u001b[K     |████████████████████████████████| 12.8 MB 5.1 MB/s \n",
            "\u001b[?25hInstalling collected packages: gurobipy\n",
            "Successfully installed gurobipy-10.0.0\n",
            "\n",
            "-----------------------------------------------------\n",
            "Method 1: Binary Programming\n",
            "\n",
            "Restricted license - for non-production use only - expires 2024-10-28\n",
            "x_var:  {(1, 1): <gurobi.Var *Awaiting Model Update*>, (1, 2): <gurobi.Var *Awaiting Model Update*>, (1, 3): <gurobi.Var *Awaiting Model Update*>, (1, 4): <gurobi.Var *Awaiting Model Update*>, (2, 1): <gurobi.Var *Awaiting Model Update*>, (2, 2): <gurobi.Var *Awaiting Model Update*>, (2, 3): <gurobi.Var *Awaiting Model Update*>, (2, 4): <gurobi.Var *Awaiting Model Update*>, (3, 1): <gurobi.Var *Awaiting Model Update*>, (3, 2): <gurobi.Var *Awaiting Model Update*>, (3, 3): <gurobi.Var *Awaiting Model Update*>, (3, 4): <gurobi.Var *Awaiting Model Update*>, (4, 1): <gurobi.Var *Awaiting Model Update*>, (4, 2): <gurobi.Var *Awaiting Model Update*>, (4, 3): <gurobi.Var *Awaiting Model Update*>, (4, 4): <gurobi.Var *Awaiting Model Update*>}\n",
            "Run GUROBI without presolving process\n",
            "\n",
            "Discarded solution information\n",
            "Set parameter TimeLimit to value 900\n",
            "Set parameter Presolve to value 0\n",
            "Gurobi Optimizer version 10.0.0 build v10.0.0rc2 (linux64)\n",
            "\n",
            "CPU model: Intel(R) Xeon(R) CPU @ 2.20GHz, instruction set [SSE2|AVX|AVX2]\n",
            "Thread count: 1 physical cores, 2 logical processors, using up to 2 threads\n",
            "\n",
            "Optimize a model with 8 rows, 16 columns and 32 nonzeros\n",
            "Model fingerprint: 0x45633ac3\n",
            "Variable types: 0 continuous, 16 integer (16 binary)\n",
            "Coefficient statistics:\n",
            "  Matrix range     [1e+00, 1e+00]\n",
            "  Objective range  [3e+00, 4e+01]\n",
            "  Bounds range     [1e+00, 1e+00]\n",
            "  RHS range        [1e+00, 1e+00]\n",
            "Found heuristic solution: objective 49.0000000\n",
            "Variable types: 0 continuous, 16 integer (16 binary)\n",
            "\n",
            "Root relaxation: objective 4.800000e+01, 9 iterations, 0.00 seconds (0.00 work units)\n",
            "\n",
            "    Nodes    |    Current Node    |     Objective Bounds      |     Work\n",
            " Expl Unexpl |  Obj  Depth IntInf | Incumbent    BestBd   Gap | It/Node Time\n",
            "\n",
            "*    0     0               0      48.0000000   48.00000  0.00%     -    0s\n",
            "\n",
            "Explored 1 nodes (9 simplex iterations) in 0.03 seconds (0.00 work units)\n",
            "Thread count was 2 (of 2 available processors)\n",
            "\n",
            "Solution count 2: 48 49 \n",
            "\n",
            "Optimal solution found (tolerance 1.00e-04)\n",
            "Best objective 4.800000000000e+01, best bound 4.800000000000e+01, gap 0.0000%\n",
            "Objective value =  48.0\n",
            "x[1,3]: 1\n",
            "x[2,2]: 1\n",
            "x[3,1]: 1\n",
            "x[4,4]: 1\n",
            "Computational time (CPU time) =  0.06147193908691406 seconds\n",
            "Run GUROBI with presolving process\n",
            "\n",
            "Discarded solution information\n",
            "Set parameter Presolve to value 1\n",
            "Gurobi Optimizer version 10.0.0 build v10.0.0rc2 (linux64)\n",
            "\n",
            "CPU model: Intel(R) Xeon(R) CPU @ 2.20GHz, instruction set [SSE2|AVX|AVX2]\n",
            "Thread count: 1 physical cores, 2 logical processors, using up to 2 threads\n",
            "\n",
            "Optimize a model with 8 rows, 16 columns and 32 nonzeros\n",
            "Model fingerprint: 0x45633ac3\n",
            "Variable types: 0 continuous, 16 integer (16 binary)\n",
            "Coefficient statistics:\n",
            "  Matrix range     [1e+00, 1e+00]\n",
            "  Objective range  [3e+00, 4e+01]\n",
            "  Bounds range     [1e+00, 1e+00]\n",
            "  RHS range        [1e+00, 1e+00]\n",
            "Found heuristic solution: objective 49.0000000\n",
            "Presolve time: 0.00s\n",
            "Presolved: 8 rows, 16 columns, 32 nonzeros\n",
            "Variable types: 0 continuous, 16 integer (16 binary)\n",
            "\n",
            "Root relaxation: objective 4.800000e+01, 9 iterations, 0.00 seconds (0.00 work units)\n",
            "\n",
            "    Nodes    |    Current Node    |     Objective Bounds      |     Work\n",
            " Expl Unexpl |  Obj  Depth IntInf | Incumbent    BestBd   Gap | It/Node Time\n",
            "\n",
            "*    0     0               0      48.0000000   48.00000  0.00%     -    0s\n",
            "\n",
            "Explored 1 nodes (9 simplex iterations) in 0.04 seconds (0.00 work units)\n",
            "Thread count was 2 (of 2 available processors)\n",
            "\n",
            "Solution count 2: 48 49 \n",
            "\n",
            "Optimal solution found (tolerance 1.00e-04)\n",
            "Best objective 4.800000000000e+01, best bound 4.800000000000e+01, gap 0.0000%\n",
            "Objective value =  48.0\n",
            "x[1,3]: 1\n",
            "x[2,2]: 1\n",
            "x[3,1]: 1\n",
            "x[4,4]: 1\n",
            "Computational time (CPU time) =  0.06543326377868652 seconds\n",
            "-----------------------------------------------------\n"
          ]
        }
      ]
    },
    {
      "cell_type": "markdown",
      "metadata": {
        "id": "nAV2Jduniuxb"
      },
      "source": [
        "Method 2: Shortest Processing Time Rule"
      ]
    },
    {
      "cell_type": "code",
      "metadata": {
        "id": "qzrzEEUJi0aG",
        "colab": {
          "base_uri": "https://localhost:8080/"
        },
        "outputId": "ad5e632f-ffb5-424e-fe74-df4a26a4392f"
      },
      "source": [
        "# E. Shortest Processing Time rule\n",
        "\n",
        "if \"SPT\" in selected_methods:\n",
        "\n",
        "  print()\n",
        "  print(\"-----------------------------------------------------\")\n",
        "  print(\"Method 2: Shortest Processing Time Rule\")\n",
        "  print()\n",
        "\n",
        "  sequence = list()\n",
        "  temp_processing_time = processing_time.copy()\n",
        "\n",
        "  for i in range(len(processing_time)):  # Iteration to ensure finding n minimum values (n = number of jobs)\n",
        "    print(\"Number of selected jobs: \", len(sequence))\n",
        "    min_value = 999999\n",
        "    selected_index = -1\n",
        "    for j in range(len(processing_time)):  # Iteration to find a single minimum value among unselected jobs\n",
        "      if temp_processing_time[j] < min_value:\n",
        "        selected_index = j\n",
        "        min_value = temp_processing_time[j]\n",
        "    print(\"Available processing time to select: \", temp_processing_time, \" (999999 represent the time for a selected job)\")\n",
        "    print(\"Selected index: \", selected_index)\n",
        "    temp_processing_time[selected_index] = 999999\n",
        "    sequence += [selected_index]\n",
        "    print()\n",
        "\n",
        "  objective = objective_value_calculation(sequence)\n",
        "  sequence = [x+1 for x in sequence]  # In the computation, indices start from 0, but because the actual job indices start from 1, we increase all values in the list with 1\n",
        "  \n",
        "  print(\"Final solution for Method 2 (Shortest Processing Time Rule):\")\n",
        "  print(\"sequence: \", sequence)\n",
        "  print(\"total_completion_times: \", objective)\n",
        "  print(\"-----------------------------------------------------\")\n"
      ],
      "execution_count": 5,
      "outputs": [
        {
          "output_type": "stream",
          "name": "stdout",
          "text": [
            "\n",
            "-----------------------------------------------------\n",
            "Method 2: Shortest Processing Time Rule\n",
            "\n",
            "Number of selected jobs:  0\n",
            "Available processing time to select:  [7, 4, 3, 10]  (999999 represent the time for a selected job)\n",
            "Selected index:  2\n",
            "\n",
            "Number of selected jobs:  1\n",
            "Available processing time to select:  [7, 4, 999999, 10]  (999999 represent the time for a selected job)\n",
            "Selected index:  1\n",
            "\n",
            "Number of selected jobs:  2\n",
            "Available processing time to select:  [7, 999999, 999999, 10]  (999999 represent the time for a selected job)\n",
            "Selected index:  0\n",
            "\n",
            "Number of selected jobs:  3\n",
            "Available processing time to select:  [999999, 999999, 999999, 10]  (999999 represent the time for a selected job)\n",
            "Selected index:  3\n",
            "\n",
            "Final solution for Method 2 (Shortest Processing Time Rule):\n",
            "sequence:  [3, 2, 1, 4]\n",
            "total_completion_times:  48\n",
            "-----------------------------------------------------\n"
          ]
        }
      ]
    },
    {
      "cell_type": "markdown",
      "metadata": {
        "id": "BglNXNgagt7H"
      },
      "source": [
        "Method 3: 2-Opt Algorithm"
      ]
    },
    {
      "cell_type": "code",
      "metadata": {
        "id": "j7spLZoOh4wh",
        "colab": {
          "base_uri": "https://localhost:8080/"
        },
        "outputId": "045e53f3-662e-4f67-d5c1-e1b3ba0dc54c"
      },
      "source": [
        "if \"2Opt\" in selected_methods:\n",
        "\n",
        "  # F. 2-Opt algorithm\n",
        "\n",
        "  print()\n",
        "  print(\"-----------------------------------------------------\")\n",
        "  print(\"Method 3: 2-Opt Algorithm\")\n",
        "  print()\n",
        "\n",
        "  # Given an initial sequence\n",
        "  current_sequence = [4, 2, 1, 3]\n",
        "  current_sequence = [x-1 for x in current_sequence]  # To adjust the indices with the ones used in the code (starting from 0)\n",
        "  old_best_sequence = current_sequence.copy()\n",
        "  old_min_value = objective_value_calculation(old_best_sequence)\n",
        "  iteration = 1\n",
        "\n",
        "  while (True):\n",
        "    print(\"==============================================================\")\n",
        "    print(\"Iteration: \", iteration)\n",
        "    print()\n",
        "    \n",
        "    new_min_value = 999999\n",
        "    new_best_sequence = list()\n",
        "    for i in range(len(processing_time)):  # Iteration to select the first index in the sequence for the exchange\n",
        "      for j in range(len(processing_time)):  # Iteration to select the second index in the sequence for the exchange\n",
        "        if j>i:\n",
        "          Two_Opt_sequence = old_best_sequence.copy()\n",
        "          temp = Two_Opt_sequence[i]\n",
        "          Two_Opt_sequence[i] = Two_Opt_sequence[j]\n",
        "          Two_Opt_sequence[j] = temp\n",
        "          objective = objective_value_calculation(Two_Opt_sequence)\n",
        "          printed_Two_Opt_sequence = [x+1 for x in Two_Opt_sequence]  # In the computation, indices start from 0, but because the actual job indices start from 1, we increase all values in the list with 1\n",
        "          print(\"sequence: \", printed_Two_Opt_sequence, \"; objective: \", objective)\n",
        "          if objective < new_min_value:\n",
        "            new_min_value = objective\n",
        "            new_best_sequence = Two_Opt_sequence.copy()\n",
        "    print()\n",
        "    if old_min_value <= new_min_value:\n",
        "      break\n",
        "    else:\n",
        "      old_min_value = new_min_value\n",
        "      old_best_sequence = new_best_sequence.copy()\n",
        "      printed_old_best_sequence = [x+1 for x in old_best_sequence]  # In the computation, indices start from 0, but because the actual job indices start from 1, we increase all values in the list with 1\n",
        "      print(\"New best sequence --> \", printed_old_best_sequence, \"; objective: \", old_min_value)\n",
        "      print()\n",
        "\n",
        "    iteration += 1\n",
        "\n",
        "  objective = objective_value_calculation(old_best_sequence)\n",
        "  old_best_sequence = [x+1 for x in old_best_sequence]  # In the computation, indices start from 0, but because the actual job indices start from 1, we increase all values in the list with 1\n",
        "\n",
        "  print(\"Final solution for Method 3 (2-Opt Algorithm):\")\n",
        "  print(\"sequence: \", old_best_sequence)\n",
        "  print(\"total_completion_times: \", objective)\n",
        "  print(\"-----------------------------------------------------\")"
      ],
      "execution_count": 6,
      "outputs": [
        {
          "output_type": "stream",
          "name": "stdout",
          "text": [
            "\n",
            "-----------------------------------------------------\n",
            "Method 3: 2-Opt Algorithm\n",
            "\n",
            "==============================================================\n",
            "Iteration:  1\n",
            "\n",
            "sequence:  [2, 4, 1, 3] ; objective:  63\n",
            "sequence:  [1, 2, 4, 3] ; objective:  63\n",
            "sequence:  [3, 2, 1, 4] ; objective:  48\n",
            "sequence:  [4, 1, 2, 3] ; objective:  72\n",
            "sequence:  [4, 3, 1, 2] ; objective:  67\n",
            "sequence:  [4, 2, 3, 1] ; objective:  65\n",
            "\n",
            "New best sequence -->  [3, 2, 1, 4] ; objective:  48\n",
            "\n",
            "==============================================================\n",
            "Iteration:  2\n",
            "\n",
            "sequence:  [2, 3, 1, 4] ; objective:  49\n",
            "sequence:  [1, 2, 3, 4] ; objective:  56\n",
            "sequence:  [4, 2, 1, 3] ; objective:  69\n",
            "sequence:  [3, 1, 2, 4] ; objective:  51\n",
            "sequence:  [3, 4, 1, 2] ; objective:  60\n",
            "sequence:  [3, 2, 4, 1] ; objective:  51\n",
            "\n",
            "Final solution for Method 3 (2-Opt Algorithm):\n",
            "sequence:  [3, 2, 1, 4]\n",
            "total_completion_times:  48\n",
            "-----------------------------------------------------\n"
          ]
        }
      ]
    }
  ]
}